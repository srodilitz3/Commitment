{
 "cells": [
  {
   "cell_type": "code",
   "execution_count": 1,
   "metadata": {},
   "outputs": [],
   "source": [
    "import numpy as np\n",
    "import matplotlib.pyplot as plt\n",
    "import time"
   ]
  },
  {
   "cell_type": "code",
   "execution_count": 2,
   "metadata": {},
   "outputs": [],
   "source": [
    "def matching(a, b, p):\n",
    "    if a<0 or b<0:\n",
    "        return None\n",
    "    else:\n",
    "        return a + b - 1.0/p*np.log(np.exp(p*(a)) + np.exp(p*b) - 1)"
   ]
  },
  {
   "cell_type": "code",
   "execution_count": 3,
   "metadata": {},
   "outputs": [],
   "source": [
    "def next_step(policy, k, d, v, matches = -1, return_matches = False):\n",
    "    if matches < 0:\n",
    "        matches = k + matching(d-k, v-k, MATCH_P)\n",
    "    next_k = (1-GAMMA)*policy*(matches)\n",
    "    next_d = (1-BETA)*d + BETA_PRIME*(matches)\n",
    "    next_v = (1- ALPHA)*v + (ALPHA_PRIME+GAMMA_PRIME)*(matches) + (ALPHA - ALPHA_PRIME - GAMMA)*policy*matches\n",
    "    if return_matches:\n",
    "        return next_k, next_d, next_v, matches\n",
    "    else:\n",
    "        return next_k, next_d, next_v"
   ]
  },
  {
   "cell_type": "code",
   "execution_count": 4,
   "metadata": {},
   "outputs": [],
   "source": [
    "def plot_m1_z0(k0, d0, v0, num_points = 1000, matches = -1):\n",
    "    zs = np.zeros(num_points)\n",
    "    ms = np.zeros(num_points)\n",
    "    for i in range(num_points):\n",
    "        zs[i] = 1.0*i/num_points\n",
    "        k1, d1, v1 = next_step(zs[i], k0, d0, v0, matches = matches)\n",
    "        ms[i] = k1 + matching(d1-k1, v1-k1, MATCH_P)\n",
    "    return zs, ms"
   ]
  },
  {
   "cell_type": "code",
   "execution_count": 5,
   "metadata": {},
   "outputs": [],
   "source": [
    "def find_opt_policy(k0, d0, v0, steps_to_go = 1):\n",
    "    value = k0 + matching(v0-k0, d0-k0, MATCH_P)\n",
    "    if steps_to_go == 0:\n",
    "        return value, []\n",
    "    else:\n",
    "        play_0_k, play_0_d, play_0_v = next_step(0, k0, d0, v0)\n",
    "        future_value_0, future_policy_0 = find_opt_policy(play_0_k, play_0_d, play_0_v, steps_to_go = steps_to_go - 1)\n",
    "        play_1_k, play_1_d, play_1_v = next_step(1, k0, d0, v0)\n",
    "        future_value_1, future_policy_1 = find_opt_policy(play_1_k, play_1_d, play_1_v, steps_to_go = steps_to_go - 1)\n",
    "        if future_value_0 > future_value_1:\n",
    "            return value+DISCOUNT_FACTOR*future_value_0, [0]+future_policy_0\n",
    "        else:\n",
    "            return value+DISCOUNT_FACTOR*future_value_1, [1]+future_policy_1"
   ]
  },
  {
   "cell_type": "code",
   "execution_count": 6,
   "metadata": {},
   "outputs": [],
   "source": [
    "def myopic_curve(dmax, vmax, num_its = 10000):\n",
    "    xs = []\n",
    "    ys = []\n",
    "    num_each = int(np.floor(np.sqrt(num_its)))\n",
    "    print('accuracy = ', np.max([dmax,vmax])*1.0/num_each)\n",
    "    opt_my = np.zeros((num_each, num_each))\n",
    "    for i in range(num_each):\n",
    "        d = (i+1)*dmax*1.0/num_each\n",
    "        threshold = np.exp(-MATCH_P*(1-BETA)*d)\n",
    "        for j in range(num_each):\n",
    "            v = (j+1)*vmax*1.0/num_each\n",
    "            m = matching(d, v, MATCH_P)\n",
    "            if np.exp(MATCH_P*BETA_PRIME*m)*(np.exp(MATCH_P*m*(GAMMA + ALPHA_PRIME -ALPHA))-1)/(\n",
    "                np.exp(MATCH_P*m*(1-ALPHA + ALPHA_PRIME))-1) < threshold:\n",
    "                opt_my[i, j] = 1\n",
    "    for i in range(num_each-1):\n",
    "        for j in range(num_each-1):\n",
    "            if opt_my[i,j] != opt_my[i+1,j] or opt_my[i,j] != opt_my[i,j+1]:\n",
    "                xs.append((i+1)*dmax*1.0/num_each)\n",
    "                ys.append((j+1)*vmax*1.0/num_each)\n",
    "    return xs, ys"
   ]
  },
  {
   "cell_type": "code",
   "execution_count": 7,
   "metadata": {},
   "outputs": [],
   "source": [
    "def dbar_vbar(dmax, num_its = 10000):\n",
    "    d = 1.0/num_its\n",
    "    v = 1.0/num_its\n",
    "    con_1 = True\n",
    "    con_0 = True\n",
    "    con_2 = True\n",
    "    while d < dmax and con_2:\n",
    "        if con_0:\n",
    "            if d >= 1.0/MATCH_P/(1-BETA)*np.log((1-ALPHA + ALPHA_PRIME)/(GAMMA + ALPHA_PRIME -ALPHA)):\n",
    "                con_0 = False\n",
    "        elif con_1:\n",
    "            if d >= 1.0/MATCH_P/(1-BETA)*np.log((\n",
    "                np.exp(MATCH_P*d*(1-ALPHA + ALPHA_PRIME))-1)/((np.exp(MATCH_P*d*(GAMMA + ALPHA_PRIME -ALPHA))-1)))-BETA_PRIME/(1-BETA)*d:\n",
    "                con_1 = False\n",
    "        else:\n",
    "            v = 1.0/MATCH_P*np.log((np.exp(MATCH_P*d)-1)/(np.exp(MATCH_P*d*(1-BETA/BETA_PRIME))-1))\n",
    "            if d >= 1.0/MATCH_P*np.log((np.exp(MATCH_P*v)-1)/(np.exp(MATCH_P*v*(1-ALPHA/(ALPHA_PRIME+GAMMA_PRIME)))-1)):\n",
    "                con_2 = False\n",
    "        d += dmax*1.0/num_its\n",
    "    return d, v\n",
    "        "
   ]
  },
  {
   "cell_type": "code",
   "execution_count": 8,
   "metadata": {},
   "outputs": [],
   "source": [
    "def plot_arrows(dmax, vmax, amount_d = 10, amount_v = 10, num_steps = 1, sf = 100):\n",
    "    eps = 0\n",
    "    X = np.linspace(dmax*0.5/amount_d, dmax*(1-0.5/amount_d), amount_d)\n",
    "    Y = np.linspace(vmax*0.5/amount_v, vmax*(1-0.5/amount_v), amount_v)\n",
    "    for v in Y:\n",
    "        for d in X:\n",
    "            val, opt = find_opt_policy(0, d, v, steps_to_go = num_steps)\n",
    "            if opt[0] == 1:\n",
    "                color = 'b'\n",
    "                pol = 1\n",
    "            else:\n",
    "                color = 'r'\n",
    "                pol = 0\n",
    "            k1, d1, v1 = next_step(pol, 0, d, v)\n",
    "            if color == 'b':\n",
    "                width = 0.01\n",
    "            else:\n",
    "                width = 0.007\n",
    "            if color == 'r':\n",
    "                #ax.quiver(d - (d1-d)*eps, v - (v1-v)*eps, \n",
    "                #          (d1-d) + (d1-d)*eps, (v1-v) + (v1-v)*eps, color = 'black', scale = sf*np.power((d1-d)**2+(v1-v)**2, .35), \n",
    "                #      headwidth=6, headlength=6, headaxislength=6, width = width)\n",
    "                ax.quiver(d, v, (d1-d), (v1-v), color = color, scale = sf*np.power((d1-d)**2+(v1-v)**2, .35),\n",
    "                      headwidth=7, headlength=7, headaxislength=7, width = width)\n",
    "            else:\n",
    "                ax.quiver(d, v, (d1-d), (v1-v), color = color, scale = sf*np.power((d1-d)**2+(v1-v)**2, .35), \n",
    "                      headwidth=3, headlength=3, headaxislength=3, width = width)"
   ]
  },
  {
   "cell_type": "markdown",
   "metadata": {},
   "source": [
    "# Single-Period Images"
   ]
  },
  {
   "cell_type": "code",
   "execution_count": 9,
   "metadata": {},
   "outputs": [],
   "source": [
    "MATCH_P     = 10.0\n",
    "BETA        = 0.05\n",
    "BETA_PRIME  = 0.2\n",
    "GAMMA       = 0.06\n",
    "GAMMA_PRIME = 0.20\n",
    "ALPHA       = 0.2\n",
    "ALPHA_PRIME = 0.15\n",
    "DISCOUNT_FACTOR = 0.6\n"
   ]
  },
  {
   "cell_type": "code",
   "execution_count": 10,
   "metadata": {},
   "outputs": [
    {
     "data": {
      "image/png": "[encoded data removed]",
      "text/plain": [
       "<Figure size 504x360 with 1 Axes>"
      ]
     },
     "metadata": {
      "needs_background": "light"
     },
     "output_type": "display_data"
    }
   ],
   "source": [
    "thick = True\n",
    "fig, ax = plt.subplots(figsize=(7,5))\n",
    "if thick:\n",
    "    x,y = plot_m1_z0(0, 1.6, 0.8)\n",
    "    plt.title('Thicker Market for Volunteers', fontsize = 20)\n",
    "else:\n",
    "    x,y = plot_m1_z0(0, 0.8, 0.8)\n",
    "    plt.title('Thinner Market for Volunteers', fontsize = 20)\n",
    "plt.plot(x,y, linewidth = 3)\n",
    "plt.xlabel('Adoption Level $(z_0)$', fontsize = 18)\n",
    "plt.ylabel('Next-period Matches $(m_1)$', fontsize = 18)\n",
    "ax.ticklabel_format(useOffset = False)\n",
    "#ax.set_xticks([0.0, 1.0])\n",
    "#ax.set_yticks([0.85, 0.855])\n",
    "ax.tick_params(axis='both', which='major', labelsize=14)\n",
    "ax.tick_params(axis='both', which='minor', labelsize=14)\n",
    "plt.tight_layout()\n",
    "plt.show()"
   ]
  },
  {
   "cell_type": "code",
   "execution_count": 11,
   "metadata": {},
   "outputs": [
    {
     "data": {
      "image/png": "[encoded data removed]",
      "text/plain": [
       "<Figure size 432x288 with 1 Axes>"
      ]
     },
     "metadata": {
      "needs_background": "light"
     },
     "output_type": "display_data"
    }
   ],
   "source": [
    "fig, ax = plt.subplots(figsize=(6,4))\n",
    "x,y = plot_m1_z0(0, 0.8, 0.8)\n",
    "plt.title('Thinner Market for Volunteers', fontsize = 20)\n",
    "plt.plot(x,y, linewidth = 3)\n",
    "plt.xlabel('$z_0$', fontsize = 24)\n",
    "plt.ylabel('$m_1$', fontsize = 24)\n",
    "ax.ticklabel_format(useOffset = False)\n",
    "#ax.set_xticks([0.0, 1.0])\n",
    "#ax.set_yticks([0.85, 0.855])\n",
    "ax.tick_params(axis='both', which='major', labelsize=14)\n",
    "ax.tick_params(axis='both', which='minor', labelsize=14)\n",
    "plt.tight_layout()\n",
    "plt.show()"
   ]
  },
  {
   "cell_type": "markdown",
   "metadata": {},
   "source": [
    "# Longer-run"
   ]
  },
  {
   "cell_type": "code",
   "execution_count": 12,
   "metadata": {},
   "outputs": [
    {
     "name": "stdout",
     "output_type": "stream",
     "text": [
      "accuracy =  0.002\n"
     ]
    },
    {
     "data": {
      "image/png": "[encoded data removed]",
      "text/plain": [
       "<Figure size 1080x360 with 1 Axes>"
      ]
     },
     "metadata": {
      "needs_background": "light"
     },
     "output_type": "display_data"
    }
   ],
   "source": [
    "#Generates arrow diagram\n",
    "#For \n",
    "\n",
    "from matplotlib.path import Path\n",
    "from matplotlib.markers import MarkerStyle\n",
    "\n",
    "\n",
    "\n",
    "def thicker_arrow_marker(size=10):\n",
    "    arrow_path = Path([\n",
    "        (0.0, 0.0),\n",
    "        (-3.0, -1.5),\n",
    "        (-3.0, -0.75),\n",
    "        (-6.0, -0.75),\n",
    "        (-6.0, 0.75),\n",
    "        (-3.0, 0.75),\n",
    "        (-3.0, 1.5),\n",
    "        (0.0, 0.0)\n",
    "    ])\n",
    "    marker = MarkerStyle(marker=arrow_path, fillstyle='full')\n",
    "    return marker.get_path().transformed(marker.get_transform()).vertices * size\n",
    "\n",
    "max_d = 2.0\n",
    "max_v = 2.0\n",
    "scale = 100\n",
    "\n",
    "font = {#'family': 'serif',\n",
    "        'weight': 'normal',\n",
    "        #'style' : 'italic',\n",
    "        'size': .18*scale,\n",
    "        }\n",
    "\n",
    "fig, ax = plt.subplots(figsize=(15, 5.0))\n",
    "ax.set(xlim=(0, max_d), ylim=(0, max_v))\n",
    "plt.xlabel('Donations $(d)$', fontdict = font)\n",
    "plt.ylabel('Volunteers $(v)$', fontdict = font)\n",
    "x, y = myopic_curve(max_d, max_v, num_its = 1000000)\n",
    "dbar, vbar = dbar_vbar(max_d, num_its = 10000)\n",
    "#ax.quiver(3, 3, 3.2, 3.2, color = 'b', scale = .1,\n",
    "#                      headwidth=7, headlength=7, headaxislength=7)\n",
    "ax.scatter(3 ,3, c='w',marker='o',s=500, label='\\n Optimal policy is '+r'$z_0^* = 1$'+' for initial state ' + r'$(d_0, k_0, v_0) = (d, 0, v)$' + '\\n')\n",
    "ax.scatter(3 ,3, c='w',marker='o',s=500, label='\\n Optimal policy is '+r'$z_0^* = 0$'+' for initial state ' + r'$(d_0, k_0, v_0) = (d, 0, v)$' + '\\n' )\n",
    "plt.plot(x,y, color = 'k', linewidth = .035*scale, label = '\\n Threshold at which the optimal myopic policy changes \\n')\n",
    "plt.plot([dbar, max_d], [vbar, vbar], linestyle ='dashed', linewidth = .03*scale, color = 'k', label = '\\n Border of absorbing state given by Theorem 3 \\n')\n",
    "plt.plot([dbar, dbar], [vbar, max_v], linestyle ='dashed', linewidth = .03*scale, color = 'k')\n",
    "\n",
    "#To recreate accuracy of figure in text, set num_steps = 15\n",
    "plot_arrows(max_d, max_v, amount_d = 10, amount_v = 7, num_steps = 5, sf = .07*scale)\n",
    "ax.set_xticks([0.0, 0.5,  dbar, 1.5, 2.0])\n",
    "ax.set_yticks([0.0, vbar, 0.5, 1.0, 1.5, 2.0])\n",
    "ax.set_xticklabels([0.0, 0.5, r'$\\bar{d}$', 1.5, 2.0])\n",
    "ax.set_yticklabels([0.0, r'$\\bar{v}$', 0.5, 1.0, 1.5, 2.0])\n",
    "\n",
    "ax.tick_params(axis='both', which='major', labelsize=.14*scale)\n",
    "ax.tick_params(axis='both', which='minor', labelsize=.14*scale)\n",
    "\n",
    "plt.legend(bbox_to_anchor=(1.04,.5), loc=\"center left\", fontsize = .18*scale, labelspacing = 0.0)\n",
    "plt.tight_layout()"
   ]
  },
  {
   "cell_type": "markdown",
   "metadata": {},
   "source": [
    "# Market Death Example"
   ]
  },
  {
   "cell_type": "code",
   "execution_count": 13,
   "metadata": {},
   "outputs": [],
   "source": [
    "MATCH_P     = 5.0\n",
    "BETA        = 0.2\n",
    "BETA_PRIME  = 0.25\n",
    "GAMMA       = 0.01\n",
    "GAMMA_PRIME = 0.03\n",
    "ALPHA       = 0.82\n",
    "ALPHA_PRIME = 0.9\n",
    "\n",
    "DISCOUNT_FACTOR = 0.6"
   ]
  },
  {
   "cell_type": "code",
   "execution_count": 14,
   "metadata": {},
   "outputs": [],
   "source": [
    "policy_list = [0, 1, 0.5]\n",
    "num_periods = 100\n",
    "ds = np.zeros((3,100))\n",
    "ks = np.zeros((3,100))\n",
    "ms = np.zeros((3,100))\n",
    "cur_index = 0\n",
    "for cur_policy in policy_list:\n",
    "    cur_k, cur_d, cur_v = 0, 1, 1\n",
    "    for step in range(num_periods):\n",
    "        ds[cur_index, step] = cur_d\n",
    "        ks[cur_index, step] = cur_k\n",
    "        cur_k, cur_d, cur_v, prev_m = next_step(cur_policy, cur_k, cur_d, cur_v, return_matches = True)\n",
    "        ms[cur_index, step] = prev_m\n",
    "    cur_index += 1\n"
   ]
  },
  {
   "cell_type": "code",
   "execution_count": 15,
   "metadata": {},
   "outputs": [
    {
     "data": {
      "image/png": "[encoded data removed]",
      "text/plain": [
       "<Figure size 936x324 with 2 Axes>"
      ]
     },
     "metadata": {
      "needs_background": "light"
     },
     "output_type": "display_data"
    }
   ],
   "source": [
    "scale = .35\n",
    "fig, (ax1,ax2) = plt.subplots(ncols = 2, figsize = (13,4.5))\n",
    "end_amount = 30\n",
    "\n",
    "ax1.plot(np.arange(1,end_amount),ms[1,1:end_amount], color='red', label='Full Adoption', linewidth = 5*scale)\n",
    "ax1.plot(np.arange(1,end_amount),ms[0,1:end_amount],color='blue', linestyle = 'dotted', label='No Adoption', linewidth = 6*scale)\n",
    "ax1.plot(np.arange(1,end_amount),ms[2,1:end_amount],color='green', linestyle = 'dashed', label='Partial Adoption', linewidth = 5.5*scale)\n",
    "ax1.legend(fontsize = 40*scale, loc = 'upper left', edgecolor = (0,0,0))\n",
    "ax1.set_xlabel('Period ('+r'$t$'+')', fontsize = 50*scale)\n",
    "ax1.set_ylabel('Completed Donations ('+r'$m_t$'+')', fontsize = 50*scale)\n",
    "ax1.set_ylim([0.45, 1.55])\n",
    "ax1.set_xlim([-1, 31])\n",
    "ax1.set_xticks([0, 10, 20, 30])\n",
    "ax1.set_xticklabels([0, 10, 20, 30],Fontsize= 40*scale)\n",
    "ax1.set_yticks([0.5, 1.0, 1.5])\n",
    "ax1.set_yticklabels([0.5, 1.0, 1.5],Fontsize= 40*scale)\n",
    "\n",
    "ax2.plot(np.arange(1,end_amount),(ds[1,1:end_amount]-ms[1,1:end_amount])/ds[1,1:end_amount], color='red', label='Full Adoption', linewidth = 5*scale)\n",
    "ax2.plot(np.arange(1,end_amount),(ds[0,1:end_amount]-ms[0,1:end_amount])/ds[0,1:end_amount],color='blue', linestyle = 'dotted', label='No Adoption', linewidth = 6*scale)\n",
    "ax2.plot(np.arange(1,end_amount),(ds[2,1:end_amount]-ms[2,1:end_amount])/ds[2,1:end_amount],color='green', linestyle = 'dashed', label='Partial Adoption', linewidth = 5.5*scale)\n",
    "ax2.legend(fontsize = 40*scale, loc = 'upper left', edgecolor = (0,0,0))\n",
    "ax2.set_xlabel('Period ('+r'$t$'+')', fontsize = 50*scale)\n",
    "ax2.set_ylabel('Percent of Donations Missed', fontsize = 50*scale)\n",
    "ax2.set_ylim([0, 0.35])\n",
    "ax2.set_xlim([-1, 31])\n",
    "ax2.set_xticks([0, 10, 20, 30])\n",
    "ax2.set_xticklabels([0, 10, 20, 30],Fontsize= 40*scale)\n",
    "ax2.set_yticks([0, 0.1, 0.2, 0.3])\n",
    "ax2.set_yticklabels([0, '10%', '20%', '30%'],Fontsize= 40*scale)\n",
    "\n",
    "plt.tight_layout(w_pad = 8.0)\n",
    "plt.show()"
   ]
  },
  {
   "cell_type": "markdown",
   "metadata": {},
   "source": [
    "# Multi-type matching"
   ]
  },
  {
   "cell_type": "code",
   "execution_count": 16,
   "metadata": {},
   "outputs": [],
   "source": [
    "def n_type_matching(dons, b, ps, step_size = 1e-4):\n",
    "    #This matching relies on the following:\n",
    "    #   For each arrival at step t, the probability of a match is 1 - PROD { (1-p[i]/n)^n*dons[i,t] }\n",
    "    #   The probability of a match of type x is PROB_MATCH * dons[x]/SUM(dons) * ps[x] \n",
    "    #   (Why? Because the expected history given no match is approximately the same...\n",
    "    #       only difference is the prob of selection * prob of match)\n",
    "    dons = np.array(dons)*1.0\n",
    "    rem_dons = dons.copy()\n",
    "    arrival = 0\n",
    "    while arrival <= b:\n",
    "        exp_factor = 0\n",
    "        for i in range(len(rem_dons)):\n",
    "            exp_factor += 1.0*rem_dons[i]*ps[i]\n",
    "            if exp_factor == 0:\n",
    "                print(\"uhoh\")\n",
    "                exp_factor = 1.0\n",
    "        match_prob = 1-np.exp(-exp_factor)\n",
    "        for j in range(len(rem_dons)):\n",
    "            rem_dons[j] -= match_prob*rem_dons[j]*ps[j]/exp_factor*step_size\n",
    "        arrival += step_size\n",
    "    matches = np.zeros(len(dons))\n",
    "    for i in range(len(matches)):\n",
    "        matches[i] = dons[i] - rem_dons[i]\n",
    "    return matches\n",
    "    "
   ]
  },
  {
   "cell_type": "code",
   "execution_count": 17,
   "metadata": {},
   "outputs": [],
   "source": [
    "def n_type_matching_sim(dons, b, ps, n = 100, seed = 0):\n",
    "    np.random.seed(seed)\n",
    "    for i in range(len(dons)):\n",
    "        dons[i] *= n\n",
    "    matches = np.zeros(len(dons))\n",
    "    for i in range(b*n):\n",
    "        seeking_match = True\n",
    "        for j in range(int(np.sum(dons))):\n",
    "            if seeking_match:\n",
    "                cur_type = find_type(dons, np.random.rand())\n",
    "                #print(cur_type, ps)\n",
    "                if np.random.rand() < ps[cur_type]/n:\n",
    "                    dons[cur_type] -= 1\n",
    "                    matches[cur_type] += 1\n",
    "                    seeking_match = False\n",
    "    return matches/n\n",
    "            \n",
    "            \n",
    "            \n",
    "def find_type(vec, prob):\n",
    "    if np.sum(vec) == 0:\n",
    "        return 0\n",
    "    vec /= np.sum(vec)\n",
    "    ind = 1\n",
    "    prob_sum = vec[0]\n",
    "    while prob_sum < prob:\n",
    "        prob_sum += vec[ind]\n",
    "        ind += 1\n",
    "    #print(vec, prob, ind)\n",
    "    return ind - 1\n",
    "    \n"
   ]
  },
  {
   "cell_type": "code",
   "execution_count": 18,
   "metadata": {},
   "outputs": [],
   "source": [
    "MATCH_PS = np.array([1.0,1.0])\n",
    "\n",
    "def n_type_next_step(policy, k, d, v, probs, matches = [-1], return_matches = False, ss = 1e-4):\n",
    "    #assumes we get numpy arrays as inputs\n",
    "    if np.sum(matches) < 0:\n",
    "        matches = k + n_type_matching(d-k, v-np.sum(k), probs, step_size = ss)\n",
    "    next_k = (1-GAMMA)*policy*(matches)\n",
    "    next_d = (1-BETA)*d + BETA_PRIME*(matches)\n",
    "    next_v = (1- ALPHA)*v + (ALPHA_PRIME+GAMMA_PRIME)*(np.sum(matches)) + (ALPHA - ALPHA_PRIME - GAMMA)*np.sum(policy*matches)\n",
    "    if return_matches:\n",
    "        return next_k, next_d, next_v, matches\n",
    "    return next_k, next_d, next_v"
   ]
  },
  {
   "cell_type": "code",
   "execution_count": 19,
   "metadata": {},
   "outputs": [],
   "source": [
    "def grid_search_z0(k0, d0, v0, probs = MATCH_PS, total_num_points = 1000):\n",
    "    #assumes we get numpy arrays as inputs\n",
    "    matches = k0 + n_type_matching(d0-k0, v0-np.sum(k0), probs)\n",
    "    dim1 = len(d0)\n",
    "    dim2 = int(np.power(total_num_points, 1/dim1))\n",
    "    zs = np.zeros((np.power(dim2+1, dim1), dim1))\n",
    "    ms = np.zeros(np.power(dim2+1, dim1))\n",
    "    for i in range(len(zs)):\n",
    "        cur_zs = np.zeros(dim1)\n",
    "        for j in range(dim1):\n",
    "            cur_zs[j] = (int(i/np.power(dim2+1,j))%(dim2+1))*1.0/dim2\n",
    "        zs[i,:] = cur_zs\n",
    "        k1, d1, v1 = n_type_next_step(cur_zs, k0, d0, v0, probs = probs, matches = matches)\n",
    "        ms[i] = np.sum(k1 + n_type_matching(d1-k1, v1-np.sum(k1), probs))\n",
    "    return zs, ms"
   ]
  },
  {
   "cell_type": "code",
   "execution_count": 20,
   "metadata": {},
   "outputs": [],
   "source": [
    "#O(num_mps^2*search_space)\n",
    "def generate_2d_opts(start_val, end_val, num_mps = 11, search_space = 100, offset = 0):\n",
    "    st = time.time()\n",
    "    opts = np.zeros((num_mps, num_mps))\n",
    "    if num_mps == 1:\n",
    "        mps = np.ones(1)\n",
    "        mps[0] = start_val\n",
    "    else:\n",
    "        mps = (np.arange(num_mps))*(end_val-start_val)/(num_mps-1)+start_val\n",
    "\n",
    "    for i1 in range(len(mps)):\n",
    "        for i2 in range(i1, len(mps)):\n",
    "            p1 = mps[i1]\n",
    "            p2 = mps[i2] + offset\n",
    "            MATCH_PS = np.array([p1,p2])\n",
    "            x,y = grid_search_z0(init_ks, init_ds, init_vs, probs = MATCH_PS, total_num_points = search_space)\n",
    "            cur_opt = x[np.argmax(y)]\n",
    "            #print(p1, p2, cur_opt)\n",
    "            if cur_opt[1] == 1:\n",
    "                if cur_opt[0] == 1:\n",
    "                    opts[i1,i2] = 1\n",
    "                else:\n",
    "                    print(\"hmm\")\n",
    "            elif cur_opt[1] == 0:\n",
    "                if cur_opt[0] == 1:\n",
    "                    opts[i1,i2] = 0.5\n",
    "                elif cur_opt[0] == 0:\n",
    "                    opts[i1,i2] = 0.0\n",
    "                else:\n",
    "                    print(\"hmmm2\")\n",
    "            else:\n",
    "                print('hmmm3')\n",
    "    for i1 in range(len(mps)-1):\n",
    "        for i2 in range(i1+1, len(mps)):\n",
    "            opts[i2,i1] = opts[i1,i2]\n",
    "    print(time.time()-st)\n",
    "    return mps, opts\n"
   ]
  },
  {
   "cell_type": "code",
   "execution_count": 21,
   "metadata": {},
   "outputs": [],
   "source": [
    "def plot_2d_opts(mps, opts, subsample = 1):\n",
    "    #1 is all adoption\n",
    "    #0.5 is only the low-prob adoption\n",
    "    #0 is no adoption\n",
    "    if subsample > 1:\n",
    "        old_mps = mps.copy()\n",
    "        old_opts = opts.copy()\n",
    "        newdim = int(len(mps)/subsample)\n",
    "        mps = np.zeros(newdim)\n",
    "        opts = np.zeros((newdim,newdim))\n",
    "        for i in range(newdim):\n",
    "            mps[i] = old_mps[subsample*i]\n",
    "            for j in range(newdim):\n",
    "                opts[i,j] = old_opts[subsample*i,subsample*j]\n",
    "\n",
    "    matrix = opts\n",
    "    num_mps = len(mps)\n",
    "    start_val = mps[0]\n",
    "    end_val = mps[-1]\n",
    "\n",
    "    # Create a color map for the values in the matrix\n",
    "    cmap = plt.cm.get_cmap('brg')\n",
    "\n",
    "    # Create a figure and axis object\n",
    "    fig, ax = plt.subplots()\n",
    "\n",
    "    wid = (end_val-start_val)/(num_mps-1)\n",
    "\n",
    "    # Create a grid of squares from the matrix\n",
    "    for i in range(matrix.shape[0]):\n",
    "        for j in range(i+1):\n",
    "            if i >= j:\n",
    "                color = cmap(matrix[i,j])\n",
    "                if matrix[i,j] == 0:\n",
    "                    rect = plt.Rectangle((mps[j], mps[i]), wid, wid, fc = 'none', hatch = '---', ec=color, linewidth = 0.0)\n",
    "                elif matrix[i,j] == 1:\n",
    "                    rect = plt.Rectangle((mps[j], mps[i]), wid, wid,  fc = 'none', hatch = '|||', ec=color, linewidth = 0.0)\n",
    "\n",
    "                else:\n",
    "                    rect = plt.Rectangle((mps[j], mps[i]), wid, wid, fill=True, color=color)\n",
    "                ax.add_patch(rect)\n",
    "\n",
    "    # Set the x and y limits of the axis to show the entire grid\n",
    "    ax.set_xlim([start_val, end_val+wid])\n",
    "    ax.set_ylim([start_val, end_val+wid])\n",
    "\n",
    "    # Create a colorbar to show the color scale\n",
    "    sm = plt.cm.ScalarMappable(cmap=cmap, norm=plt.Normalize(vmin=0, vmax=1))\n",
    "    sm._A = []\n",
    "    plt.colorbar(sm, ax=ax)\n",
    "    plt.xlim([5,15])\n",
    "    plt.ylim([5,15])\n",
    "    plt.xticks(fontsize = 12)\n",
    "    plt.yticks(fontsize = 12)\n",
    "    # Show the plot\n",
    "    plt.show()"
   ]
  },
  {
   "cell_type": "code",
   "execution_count": 22,
   "metadata": {},
   "outputs": [],
   "source": [
    "# SETTING 1: Market Death\n",
    "#0/1 optimality holds even for a large search_space\n",
    "\n",
    "MATCH_P     = 5.0\n",
    "BETA        = 0.11\n",
    "BETA_PRIME  = 0.12\n",
    "GAMMA       = 0.04\n",
    "GAMMA_PRIME = 0.07\n",
    "ALPHA       = 0.35\n",
    "ALPHA_PRIME = 0.39\n",
    "\n",
    "init_ks = np.array([0.0,0.0])\n",
    "init_ds = np.array([0.5,0.5])\n",
    "init_vs = 1.0\n"
   ]
  },
  {
   "cell_type": "code",
   "execution_count": 23,
   "metadata": {},
   "outputs": [
    {
     "name": "stdout",
     "output_type": "stream",
     "text": [
      "4.097683906555176\n"
     ]
    }
   ],
   "source": [
    "#set num_mps to 401 to recover higher-resolution figure\n",
    "set1mps, set1opts = generate_2d_opts(5, 15, num_mps = 6, search_space = 1)"
   ]
  },
  {
   "cell_type": "code",
   "execution_count": 24,
   "metadata": {},
   "outputs": [
    {
     "data": {
      "image/png": "[encoded data removed]",
      "text/plain": [
       "<Figure size 432x288 with 2 Axes>"
      ]
     },
     "metadata": {
      "needs_background": "light"
     },
     "output_type": "display_data"
    }
   ],
   "source": [
    "plot_2d_opts(set1mps, set1opts, subsample = 1)"
   ]
  },
  {
   "cell_type": "code",
   "execution_count": 25,
   "metadata": {},
   "outputs": [],
   "source": [
    "# SETTING 2: illustration of all-or-nothing policy for thin market\n",
    "#0/1 optimality holds even for a large search_space\n",
    "\n",
    "MATCH_P     = 10.0\n",
    "BETA        = 0.05\n",
    "BETA_PRIME  = 0.2\n",
    "GAMMA       = 0.06\n",
    "GAMMA_PRIME = 0.20\n",
    "ALPHA       = 0.2\n",
    "ALPHA_PRIME = 0.15\n",
    "\n",
    "init_ks = np.array([0.0,0.0])\n",
    "init_ds = np.array([0.4,0.4])\n",
    "init_vs = 0.8"
   ]
  },
  {
   "cell_type": "code",
   "execution_count": 26,
   "metadata": {},
   "outputs": [
    {
     "name": "stdout",
     "output_type": "stream",
     "text": [
      "3.674682378768921\n"
     ]
    }
   ],
   "source": [
    "#set num_mps to 401 to recover higher-resolution figure\n",
    "set2mps, set2opts = generate_2d_opts(5, 15, num_mps = 6, search_space = 1)"
   ]
  },
  {
   "cell_type": "code",
   "execution_count": 27,
   "metadata": {},
   "outputs": [
    {
     "data": {
      "image/png": "[encoded data removed]",
      "text/plain": [
       "<Figure size 432x288 with 2 Axes>"
      ]
     },
     "metadata": {
      "needs_background": "light"
     },
     "output_type": "display_data"
    }
   ],
   "source": [
    "plot_2d_opts(set2mps, set2opts, subsample = 1)"
   ]
  },
  {
   "cell_type": "code",
   "execution_count": 28,
   "metadata": {},
   "outputs": [],
   "source": [
    "# SETTING 3: illustration of all-or-nothing policy for thin market\n",
    "#0/1 optimality holds even for a large search_space\n",
    "\n",
    "MATCH_P     = 10.0\n",
    "BETA        = 0.05\n",
    "BETA_PRIME  = 0.2\n",
    "GAMMA       = 0.04\n",
    "GAMMA_PRIME = 0.20\n",
    "ALPHA       = 0.2\n",
    "ALPHA_PRIME = 0.15\n",
    "\n",
    "init_ks = np.array([0.0,0.0])\n",
    "init_ds = np.array([0.4,0.4])\n",
    "init_vs = 0.8"
   ]
  },
  {
   "cell_type": "code",
   "execution_count": 29,
   "metadata": {},
   "outputs": [
    {
     "name": "stdout",
     "output_type": "stream",
     "text": [
      "3.6395113468170166\n"
     ]
    }
   ],
   "source": [
    "#set num_mps to 401 to recover higher-resolution figure\n",
    "set25mps, set25opts = generate_2d_opts(5, 15, num_mps = 6, search_space = 1)"
   ]
  },
  {
   "cell_type": "code",
   "execution_count": 30,
   "metadata": {},
   "outputs": [
    {
     "data": {
      "image/png": "[encoded data removed]",
      "text/plain": [
       "<Figure size 432x288 with 2 Axes>"
      ]
     },
     "metadata": {
      "needs_background": "light"
     },
     "output_type": "display_data"
    }
   ],
   "source": [
    "plot_2d_opts(set25mps, set25opts, subsample = 1)"
   ]
  },
  {
   "cell_type": "markdown",
   "metadata": {},
   "source": [
    "# Simulations for Heterogeneous Donors"
   ]
  },
  {
   "cell_type": "code",
   "execution_count": 31,
   "metadata": {},
   "outputs": [],
   "source": [
    "def find_opt_long_run_policy(num_periods, policy_space, k_0, ds_0, v_0, probs, ss = 1e-4):\n",
    "    if num_periods <= 0:\n",
    "        total_m = np.sum(n_type_matching(ds_0 - k_0, v_0 - np.sum(k_0), probs, step_size = ss)) + np.sum(k_0)\n",
    "        return [], total_m\n",
    "    best_val = 0\n",
    "    best_future_policy = []\n",
    "    best_cur_policy = -1\n",
    "    for i in policy_space:\n",
    "        cur_k, cur_ds, cur_v, prev_m = n_type_next_step(i, k_0, ds_0, v_0, probs, return_matches = True, ss = ss)\n",
    "        prev_m_total = np.sum(prev_m)\n",
    "        future_pol, future_val = find_opt_long_run_policy(num_periods-1, policy_space, \n",
    "                                                              cur_k, cur_ds, cur_v, probs, ss = ss)\n",
    "        if future_val*DISCOUNT_RATE + prev_m_total > best_val:\n",
    "            best_val = future_val*DISCOUNT_RATE + prev_m_total\n",
    "            best_future_policy = future_pol\n",
    "            best_cur_policy = i\n",
    "    best_future_policy.insert(0, best_cur_policy)\n",
    "    return best_future_policy, best_val\n",
    "        \n",
    "    "
   ]
  },
  {
   "cell_type": "code",
   "execution_count": 32,
   "metadata": {},
   "outputs": [],
   "source": [
    "def play_myopic(num_periods, k_0, ds_0, v_0, probs, ss = 1e-4, \n",
    "                pols = [np.array([0,0]),np.array([1,0]),np.array([1,1]), np.array([0,1])], margin = 0):\n",
    "    next_policy, orig_m, opt_m = myopic_opt(k_0, ds_0, v_0, probs, ss = ss, pols = pols, margin = margin)\n",
    "    #next_policy = np.array([0,0])\n",
    "    cur_k, cur_ds, cur_v = n_type_next_step(next_policy, k_0, ds_0, v_0, probs, matches = orig_m, ss = ss)\n",
    "    prev_m_total = np.sum(orig_m)\n",
    "    if num_periods <= 1:\n",
    "        future_val = np.sum(opt_m)\n",
    "        future_policy = []\n",
    "    else:\n",
    "        future_policy, future_val = play_myopic(num_periods-1, cur_k, cur_ds, cur_v, probs, \n",
    "                                                ss = ss, pols = pols, margin = margin)\n",
    "    cur_val = future_val*DISCOUNT_RATE + prev_m_total\n",
    "    future_policy.insert(0,next_policy)\n",
    "    return future_policy, cur_val"
   ]
  },
  {
   "cell_type": "code",
   "execution_count": 33,
   "metadata": {},
   "outputs": [],
   "source": [
    "def myopic_opt(k_0, ds_0, v_0, probs, ss = 1e-4, \n",
    "               pols = [np.array([0,0]),np.array([1,0]),np.array([1,1]), np.array([0,1])], margin = 0):\n",
    "    best_pol = np.array([-1,-1])\n",
    "    best_m1 = -1\n",
    "    curm = -1\n",
    "    for cur_pol in pols:\n",
    "        k1, ds1, v1, m0 = n_type_next_step(cur_pol, k_0, ds_0, v_0, probs, matches = curm, return_matches = True, ss = ss)\n",
    "        m1 = n_type_matching(ds1-k1, v1-np.sum(k1), probs, step_size = ss) + k1\n",
    "        total_m1 = np.sum(m1)\n",
    "        #print(cur_pol, total_m1, np.sum(best_m1) + margin, margin)\n",
    "        if total_m1 > np.sum(best_m1) + margin:\n",
    "            best_pol = cur_pol\n",
    "            best_m1 = m1\n",
    "        curm = m0\n",
    "    return best_pol, m0, best_m1\n",
    "        "
   ]
  },
  {
   "cell_type": "code",
   "execution_count": 34,
   "metadata": {},
   "outputs": [],
   "source": [
    "def policy_perf(z1s, z2, k_0, ds_0, v_0, probs, m0 = -1,  ss = 1e-4, switch = False):\n",
    "    ms = np.zeros(len(z1s))\n",
    "    for i in range(len(z1s)):\n",
    "        z1 = z1s[i]\n",
    "        if switch:\n",
    "            cur_pol = np.array([z2,z1])\n",
    "        else:\n",
    "            cur_pol = np.array([z1,z2])\n",
    "        k1, ds1, v1, m0 = n_type_next_step(cur_pol, k_0, ds_0, v_0, probs, matches = m0, return_matches = True, ss = ss)\n",
    "        m1 = n_type_matching(ds1-k1, v1-np.sum(k1), probs, step_size = ss) + k1\n",
    "        ms[i] = np.sum(m1)*DISCOUNT_RATE + np.sum(m0)\n",
    "    return z1s, ms"
   ]
  },
  {
   "cell_type": "code",
   "execution_count": 35,
   "metadata": {},
   "outputs": [],
   "source": [
    "def gap_myopic_opt(num_periods, k_0, ds_0, v_0, probs, ss = 1e-4, return_all_info = False):\n",
    "    st = time.time()\n",
    "    opt_pol, opt_val = find_opt_long_run_policy(num_periods, \n",
    "                                                [np.array([0,0]),np.array([1,0]),np.array([1,1])], \n",
    "                                                #[np.array([0,0]),np.array([1,0]),np.array([0,1]),np.array([1,1])], \n",
    "                                                k_0, ds_0, v_0, probs, ss = ss)\n",
    "    #print(time.time() - st)\n",
    "    my_pol, my_val = play_myopic(num_periods, k_0, ds_0, v_0, probs, ss = ss)\n",
    "    first_m = np.sum(n_type_matching(ds_0 - k_0, v_0 - np.sum(k_0), probs, step_size = ss)) + np.sum(k_0)\n",
    "    my_val -= first_m\n",
    "    opt_val -= first_m\n",
    "    #print(k_0, ds_0, v_0, probs, my_pol,my_val)\n",
    "    #print(time.time() - st)\n",
    "    if return_all_info:\n",
    "        my_pols = np.zeros(4)\n",
    "        opt_pols = np.zeros(4)\n",
    "        for j in range(num_periods):\n",
    "            my_pols[int(my_pol[j][0]*2 + my_pol[j][1])] += 1\n",
    "            opt_pols[int(opt_pol[j][0]*2 + opt_pol[j][1])] += 1\n",
    "        return my_val/opt_val, my_pols, opt_pols\n",
    "    else:\n",
    "        return my_val/opt_val\n",
    "    "
   ]
  },
  {
   "cell_type": "code",
   "execution_count": 36,
   "metadata": {},
   "outputs": [],
   "source": [
    "def check_0_1(num_periods, k_0, ds_0, v_0, probs, ss = 1e-4, num_mistakes_allowed = 0):\n",
    "    pol_opts = [np.array([0,0]),np.array([1,0]),np.array([0,1]),np.array([1,1]), \n",
    "               np.array([0.1,0]),np.array([0.9,0]),np.array([0.1,1]),np.array([0.9,1]),\n",
    "               np.array([0,0.1]),np.array([1,0.1]),np.array([0,0.9]),np.array([1,0.9]),\n",
    "               np.array([0.1,0.1]),np.array([0.9,0.1]),np.array([0.1,0.9]),np.array([0.9,0.9])]\n",
    "    num_non_extreme = 0\n",
    "    ans, val = find_opt_long_run_policy(num_periods, pol_opts, k_0, ds_0, v_0, probs, ss = ss)\n",
    "    print(ans, val)\n",
    "    for i in ans:\n",
    "        num_non_extreme += 1\n",
    "        if i[0] == 0 and i[1] == 0:\n",
    "            num_non_extreme -= 1\n",
    "        elif i[0] == 1 and (i[1] == 0 or i[1] == 1):\n",
    "            num_non_extreme -= 1\n",
    "        #if (i != np.array([0,0]) or i != np.array([1,0]) or i != np.array([1,1])):\n",
    "    if num_non_extreme > num_mistakes_allowed:\n",
    "        return False\n",
    "    else:\n",
    "        return True"
   ]
  },
  {
   "cell_type": "code",
   "execution_count": 37,
   "metadata": {},
   "outputs": [],
   "source": [
    "def check_0_1_myop(num_periods, k_0, ds_0, v_0, probs, ss = 1e-4, num_mistakes_allowed = 0, margin = 0, printing = False):\n",
    "    pol_opts = [np.array([0,0]),np.array([1,0]),np.array([1,1]),np.array([0,1]), \n",
    "               np.array([0.2,0]),np.array([0.8,0]),np.array([0.2,1]),np.array([0.8,1]),\n",
    "               np.array([0,0.2]),np.array([1,0.2]),np.array([0,0.9]),np.array([1,0.8]),\n",
    "               np.array([0.2,0.2]),np.array([0.8,0.2]),np.array([0.2,0.8]),np.array([0.8,0.8])]\n",
    "    num_non_extreme = 0\n",
    "    ans, val = play_myopic(num_periods, k_0, ds_0, v_0, probs, ss = ss, pols = pol_opts, margin = margin)\n",
    "    #print(ans, val)\n",
    "    for i in ans:\n",
    "        num_non_extreme += 1\n",
    "        if i[0] == 0 and i[1] == 0:\n",
    "            num_non_extreme -= 1\n",
    "        elif i[0] == 1 and (i[1] == 0 or i[1] == 1):\n",
    "            num_non_extreme -= 1\n",
    "        #if (i != np.array([0,0]) or i != np.array([1,0]) or i != np.array([1,1])):\n",
    "    if num_non_extreme > num_mistakes_allowed:\n",
    "        if printing:\n",
    "            print(ans)\n",
    "        return False\n",
    "    else:\n",
    "        return True"
   ]
  },
  {
   "cell_type": "code",
   "execution_count": 38,
   "metadata": {},
   "outputs": [],
   "source": [
    "kinit = 0\n",
    "vinit = 1\n",
    "dh = 0.5\n",
    "de = 0.5\n",
    "BETA = .05\n",
    "BETA_PRIME = .1\n",
    "ALPHA = .1\n",
    "MATCH_P_H = 2\n",
    "MATCH_P_E = 8\n",
    "GAMMA = .05\n",
    "GAMMA_PRIME = .1\n",
    "ALPHA_PRIME = .1\n",
    "\n",
    "MATCH_PS = np.array([MATCH_P_H, MATCH_P_E])\n",
    "dinit = np.array([dh, de])\n",
    "DISCOUNT_RATE = 1"
   ]
  },
  {
   "cell_type": "code",
   "execution_count": 39,
   "metadata": {},
   "outputs": [
    {
     "name": "stdout",
     "output_type": "stream",
     "text": [
      "292.09793734550476\n"
     ]
    }
   ],
   "source": [
    "#To recreate simulations from paper, set num_trials = 1000\n",
    "#This takes around 30 seconds per simulation\n",
    "\n",
    "num_trials = 10\n",
    "num_steps = 5\n",
    "acc =1e-4\n",
    "\n",
    "\n",
    "st = time.time()\n",
    "ratios = np.zeros((2,num_trials))\n",
    "good_sims = 0\n",
    "exacts = [0,0]\n",
    "total_myops = np.zeros((2,4))\n",
    "total_opts = np.zeros((2,4))\n",
    "avg_discount = 0\n",
    "\n",
    "np.random.seed(0)\n",
    "\n",
    "for i in range(num_trials):\n",
    "    vals = np.random.rand(18)\n",
    "    dh = vals[0]*1.0\n",
    "    de = vals[1]*1.0\n",
    "    BETA = vals[2]*.1\n",
    "    BETA_PRIME = vals[3]*.1 + BETA\n",
    "    ALPHA = vals[4]*.2\n",
    "    MATCH_P_H = vals[6]*5\n",
    "    MATCH_P_E = (vals[7] + 1)*MATCH_P_H\n",
    "    GAMMA = vals[8]*.1\n",
    "    GAMMA_PRIME = vals[10]*.1 + GAMMA\n",
    "    ALPHA_PRIME = vals[14]*0.2\n",
    "    \n",
    "\n",
    "    max_growth_rate = np.max([ALPHA_PRIME - ALPHA + GAMMA_PRIME, GAMMA_PRIME - GAMMA, BETA_PRIME - BETA])\n",
    "    DISCOUNT_RATE = 0.7 + (0.3-max_growth_rate)*vals[15]\n",
    "    avg_discount += DISCOUNT_RATE/num_trials\n",
    "\n",
    "    kinit = 0\n",
    "    vinit = 1.0\n",
    "    MATCH_PS = np.array([MATCH_P_H, MATCH_P_E])\n",
    "    dinit = np.array([dh, de])\n",
    "    \n",
    "    cur_ans, myop_zs, opt_zs = gap_myopic_opt(num_steps, kinit, dinit, vinit, MATCH_PS, ss = acc, return_all_info = True)\n",
    "    ratios[0, i] = cur_ans\n",
    "    if cur_ans == 1:\n",
    "        exacts[0] += 1\n",
    "    total_myops[0,:] += myop_zs\n",
    "    total_opts[0,:] += opt_zs\n",
    "    if (GAMMA - ALPHA + ALPHA_PRIME) < 0:\n",
    "        good_sims += 1\n",
    "        ratios[1, i] = cur_ans\n",
    "        if cur_ans == 1:\n",
    "            exacts[1] += 1\n",
    "        total_myops[1,:] += myop_zs\n",
    "        total_opts[1,:] += opt_zs\n",
    "print(time.time()-st)"
   ]
  },
  {
   "cell_type": "code",
   "execution_count": 40,
   "metadata": {},
   "outputs": [
    {
     "data": {
      "text/plain": [
       "(1, [8, 1], 0.997, 1.0)"
      ]
     },
     "execution_count": 40,
     "metadata": {},
     "output_type": "execute_result"
    }
   ],
   "source": [
    "good_sims, exacts, np.round(np.min(ratios[0]),3), np.round(np.mean(ratios[0]),3)"
   ]
  },
  {
   "cell_type": "code",
   "execution_count": 41,
   "metadata": {},
   "outputs": [],
   "source": [
    "incorrects_dons = []\n",
    "for i in range(num_trials):\n",
    "    if ratios[0,i] < 1:\n",
    "        incorrects_dons.append(ratios[0,i])"
   ]
  },
  {
   "cell_type": "markdown",
   "metadata": {},
   "source": [
    "# Simulations for Heterogeneous Volunteers"
   ]
  },
  {
   "cell_type": "code",
   "execution_count": 42,
   "metadata": {},
   "outputs": [],
   "source": [
    "#Policy is what fraction of tasks are AVAILABLE for adoption\n",
    "#Subscript s is students (generally prefer one-time sign-ups)\n",
    "#Subscript p is professionals (generally prefer adoption)\n",
    "\n",
    "def next_step_two_types(policy, k_s, k_p, d, v_s, v_p, return_matches = False):\n",
    "    spot_amount = matching(d - k_s - k_p, v_s + v_p - k_s - k_p, MATCH_P)\n",
    "    if spot_amount == None:\n",
    "        print(d, k_s, k_p)\n",
    "    matches = k_s + k_p + spot_amount\n",
    "    matches_s = k_s + (v_s - k_s)/(v_s + v_p - k_s - k_p)*spot_amount\n",
    "    matches_p = matches - matches_s\n",
    "    next_k_s = (1-S_GAMMA)*(k_s + policy*(matches_s - k_s)*Q_STUS)\n",
    "    next_k_p = (1-P_GAMMA)*(k_p + policy*(matches_p - k_p)*Q_PROS)\n",
    "    next_d = (1-BETA)*d + BETA_PRIME*(matches)\n",
    "    next_v_s = ((1-S_ALPHA)*(v_s) + (S_ALPHA_PRIME + S_GAMMA_PRIME)*matches_s + \n",
    "               (S_ALPHA - S_ALPHA_PRIME - S_GAMMA)*(k_s + Q_STUS*policy*(matches_s - k_s)))\n",
    "    #temp = (1-S_ALPHA)*(v_s) + (S_ALPHA_PRIME + S_GAMMA_PRIME)*matches_s + (-S_GAMMA + S_ALPHA -S_ALPHA_PRIME)*policy*(matches_s)*Q_STUS\n",
    "    next_v_p = ((1- P_ALPHA)*v_p + (P_ALPHA_PRIME+P_GAMMA_PRIME)*(matches_p)+ \n",
    "               (P_ALPHA - P_ALPHA_PRIME - P_GAMMA)*(k_p + Q_PROS*policy*(matches_p - k_p)))\n",
    "    if return_matches:\n",
    "        next_matches = matching(next_d - next_k_s - next_k_p, next_v_s + next_v_p - next_k_s - next_k_p, MATCH_P) + next_k_s + next_k_p\n",
    "        return next_k_s, next_k_p, next_d, next_v_s, next_v_p, next_matches\n",
    "    else:\n",
    "        return next_k_s, next_k_p, next_d, next_v_s, next_v_p\n",
    "    \n",
    "    \n",
    "def myopic_opt(k_s, k_p, d, v_s, v_p):\n",
    "    state_0 = next_step_two_types(0, k_s, k_p, d, v_s, v_p)\n",
    "    state_1 = next_step_two_types(1, k_s, k_p, d, v_s, v_p)\n",
    "    fixed_0 = state_0[0] + state_0[1]\n",
    "    m_if_0 =  fixed_0 + matching(state_0[2] - fixed_0, state_0[3] + state_0[4] - fixed_0, MATCH_P)\n",
    "    fixed_1 = state_1[0] + state_1[1]\n",
    "    m_if_1 =  fixed_1 + matching(state_1[2] - fixed_1, state_1[3] + state_1[4] - fixed_1, MATCH_P)\n",
    "    if m_if_0 > m_if_1:\n",
    "        return 0\n",
    "    else:\n",
    "        return 1"
   ]
  },
  {
   "cell_type": "code",
   "execution_count": 43,
   "metadata": {},
   "outputs": [],
   "source": [
    "def multi_period_matches_two_types(policies, k_s0, k_p0, d0, v_s0, v_p0):\n",
    "    total_discounted_matches = 0\n",
    "    cur_discount = 1\n",
    "    \n",
    "    cur_ks, cur_kp, cur_d, cur_vs, cur_vp = k_s0, k_p0, d0, v_s0, v_p0\n",
    "\n",
    "    #matches reported will be for periods 1 to len(policies) = T\n",
    "    for i in range(len(policies)):\n",
    "        cur_ks, cur_kp, cur_d, cur_vs, cur_vp, cur_m = next_step_two_types(\n",
    "                                                            policies[i], \n",
    "                                                            cur_ks, cur_kp, cur_d, cur_vs, cur_vp, \n",
    "                                                            return_matches = True)\n",
    "        total_discounted_matches += cur_m*cur_discount\n",
    "        cur_discount *= DISCOUNT_RATE\n",
    "        return total_discounted_matches"
   ]
  },
  {
   "cell_type": "code",
   "execution_count": 44,
   "metadata": {},
   "outputs": [],
   "source": [
    "def find_opt_long_run_policy(num_periods, policy_space, k_s0, k_p0, d0, v_s0, v_p0):\n",
    "    pol_answer = np.ones(num_periods)*-1\n",
    "    best_val = 0\n",
    "    #best_future_policy = np.ones(num_periods-2)*-1\n",
    "    best_cur_policy = -1\n",
    "    for i in policy_space:\n",
    "        cur_ks, cur_kp, cur_d, cur_vs, cur_vp, prev_m = next_step_two_types(i, k_s0, k_p0, d0, v_s0, v_p0, \n",
    "                                                                            return_matches = True)\n",
    "        if num_periods > 1:\n",
    "            future_pol, future_val = find_opt_long_run_policy(num_periods-1, policy_space, \n",
    "                                                              cur_ks, cur_kp, cur_d, cur_vs, cur_vp)\n",
    "        else:\n",
    "            future_val = 0\n",
    "            future_pol = []\n",
    "        if future_val*DISCOUNT_RATE + prev_m > best_val:\n",
    "            best_val = future_val*DISCOUNT_RATE + prev_m\n",
    "            best_future_policy = future_pol\n",
    "            best_cur_policy = i\n",
    "    pol_answer[0] = best_cur_policy\n",
    "    if num_periods > 1:\n",
    "        pol_answer[1:] = best_future_policy\n",
    "    return pol_answer, best_val\n",
    "        \n",
    "    "
   ]
  },
  {
   "cell_type": "code",
   "execution_count": 45,
   "metadata": {},
   "outputs": [],
   "source": [
    "def play_myopic(num_periods, k_s0, k_p0, d0, v_s0, v_p0):\n",
    "    pol_answer = np.ones(num_periods)*-1\n",
    "    next_policy = myopic_opt(k_s0, k_p0, d0, v_s0, v_p0)\n",
    "\n",
    "    cur_ks, cur_kp, cur_d, cur_vs, cur_vp, cur_m = next_step_two_types(next_policy, k_s0, k_p0, d0, v_s0, v_p0, \n",
    "                                                                            return_matches = True)\n",
    "    \n",
    "    if num_periods <= 1:\n",
    "        future_val = 0\n",
    "        future_policy = np.ones(num_periods)*-1\n",
    "    else:\n",
    "        future_policy, future_val = play_myopic(num_periods-1, cur_ks, cur_kp, cur_d, cur_vs, cur_vp)\n",
    "    cur_val = future_val*DISCOUNT_RATE + cur_m\n",
    "    pol_answer[0] = next_policy\n",
    "    if num_periods > 1:\n",
    "        pol_answer[1:] = future_policy\n",
    "    return pol_answer, cur_val"
   ]
  },
  {
   "cell_type": "code",
   "execution_count": 46,
   "metadata": {},
   "outputs": [],
   "source": [
    "def gap_myopic_opt(num_periods, k_s0, k_p0, d0, v_s0, v_p0, return_all_info = False):\n",
    "    opt_pol, opt_val = find_opt_long_run_policy(num_periods, [0,1], k_s0, k_p0, d0, v_s0, v_p0)\n",
    "    my_pol, my_val = play_myopic(num_periods, k_s0, k_p0, d0, v_s0, v_p0)\n",
    "    if return_all_info:\n",
    "        num_switches = 0\n",
    "        switches01 = 0\n",
    "        my_opt_mat = np.zeros((2,2))\n",
    "        my_opt_mat[int(my_pol[0]),int(opt_pol[0])] += 1\n",
    "        for i in range(1,len(my_pol)):\n",
    "            if my_pol[i] != my_pol[i-1]:\n",
    "                num_switches += 1\n",
    "                if my_pol[i] > my_pol[i-1]:\n",
    "                    switches01 += 1\n",
    "            #my_opt_mat[int(my_pol[i]),int(opt_pol[i])] += 1\n",
    "        return my_val/opt_val, num_switches, switches01, my_opt_mat\n",
    "    else:\n",
    "        return my_val/opt_val"
   ]
  },
  {
   "cell_type": "code",
   "execution_count": 47,
   "metadata": {},
   "outputs": [],
   "source": [
    "def check_0_1(num_periods, k_s0, k_p0, d0, v_s0, v_p0, num_mistakes_allowed = 0):\n",
    "    num_non_extreme = 0\n",
    "    ans, val = find_opt_long_run_policy(num_periods, [0, 1.0, 0.05, 0.95], k_s0, k_p0, d0, v_s0, v_p0)\n",
    "    for i in ans:\n",
    "        if i != 0 and i != 1:\n",
    "            num_non_extreme += 1\n",
    "    if num_non_extreme > num_mistakes_allowed:\n",
    "        return False\n",
    "    else:\n",
    "        return True"
   ]
  },
  {
   "cell_type": "code",
   "execution_count": 48,
   "metadata": {},
   "outputs": [],
   "source": [
    "S_ALPHA = 0.10            #Stus: Dropout Rate\n",
    "S_ALPHA_PRIME = 0.10      #Stus: Extra non-adopter growth\n",
    "S_GAMMA = 0.05            #Stus: Adopter dropout rate\n",
    "S_GAMMA_PRIME = 0.08      #Stus: Matched growth rate\n",
    "Q_STUS = 1.0              #Stus: adopt probability\n",
    "P_ALPHA = 0.10            #Pros: Dropout Rate\n",
    "P_ALPHA_PRIME = 0.02      #Pros: Extra non-adopter growth\n",
    "P_GAMMA = 0.05            #Pros: Adopter dropout rate\n",
    "P_GAMMA_PRIME = 0.08      #Pros: Matched growth rate\n",
    "Q_PROS = 1.0              #Pros: adopt probability\n",
    "BETA = 0.08               #Donor dropout rate\n",
    "BETA_PRIME = 0.15         #Donor growth rate\n",
    "MATCH_P = 10.0            #Compatability \"probability\"\n",
    "DISCOUNT_RATE = 1.0       #Discount rate (for multi-period problems)"
   ]
  },
  {
   "cell_type": "code",
   "execution_count": 49,
   "metadata": {},
   "outputs": [
    {
     "name": "stdout",
     "output_type": "stream",
     "text": [
      "0\n",
      "5.027151584625244\n"
     ]
    }
   ],
   "source": [
    "#To get values from original paper, set num_trials = 10000\n",
    "#Takes around .05 seconds per sim\n",
    "\n",
    "num_trials = 100\n",
    "num_steps = 10\n",
    "\n",
    "\n",
    "st = time.time()\n",
    "ratios = np.zeros((2,num_trials))\n",
    "num_mistakes = np.zeros((2,num_steps))\n",
    "good_sims = 0\n",
    "exacts = [0,0]\n",
    "total_switches = [0,0]\n",
    "total_01_switches = [0,0]\n",
    "confusion_mat = np.zeros((2,2))\n",
    "confusion_mat_good = np.zeros((2,2))\n",
    "num_2_switches = [0,0]\n",
    "avg_discount = 0\n",
    "not_01 = 0\n",
    "\n",
    "np.random.seed(0)\n",
    "\n",
    "for i in range(num_trials):\n",
    "    if i%1000 == 0:\n",
    "        print(i)\n",
    "    vals = np.random.rand(18)\n",
    "    v1 = vals[0]*1.0\n",
    "    v2 = vals[1]*1.0\n",
    "    BETA = vals[2]*.1\n",
    "    BETA_PRIME = vals[3]*.1 + BETA\n",
    "    P_ALPHA = vals[4]*.2\n",
    "    S_ALPHA = vals[4]*.2\n",
    "    if vals[6] < vals[7]:\n",
    "        P_ALPHA_PRIME = vals[6]*.2\n",
    "        S_ALPHA_PRIME = vals[7]*.2\n",
    "    else:\n",
    "        S_ALPHA_PRIME = vals[6]*.2\n",
    "        P_ALPHA_PRIME = vals[7]*.2\n",
    "    P_GAMMA = vals[8]*.1\n",
    "    S_GAMMA = vals[8]*.1\n",
    "    P_GAMMA_PRIME = vals[10]*.1 + P_GAMMA\n",
    "    S_GAMMA_PRIME = vals[10]*.1 + S_GAMMA\n",
    "    Q_PROS = vals[12]\n",
    "    Q_STUS = vals[13]\n",
    "    #Q_PROS = 1\n",
    "    #Q_STUS = 1\n",
    "    MATCH_P = vals[14]*10\n",
    "    \n",
    "\n",
    "    max_growth_rate = np.max([S_ALPHA_PRIME - S_ALPHA + S_GAMMA_PRIME, S_GAMMA_PRIME - S_GAMMA,\n",
    "                              P_ALPHA_PRIME - P_ALPHA + P_GAMMA_PRIME, P_GAMMA_PRIME - P_GAMMA, BETA_PRIME - BETA])\n",
    "    # REVISION ORIGNIALLY HAD:\n",
    "    #         DISCOUNT_RATE = 0.7 + (1-max_growth_rate - .75)*vals[15]\n",
    "    # Which I believe was a typo\n",
    "    DISCOUNT_RATE = 0.7 + (1-max_growth_rate - .7)*vals[15]\n",
    "    avg_discount += DISCOUNT_RATE/num_trials\n",
    "\n",
    "\n",
    "    max_k = matching(v1+v2, 1, MATCH_P)\n",
    "\n",
    "    #k1 = v1*vals[16]\n",
    "    #k2 = v2*vals[17]\n",
    "    k1 = 0\n",
    "    k2 = 0\n",
    "    if k1 + k2 > max_k:\n",
    "        scaler = k1+k2\n",
    "        k1 = max_k*k1/scaler\n",
    "        k2 = max_k*k2/scaler\n",
    "    cur_ans, num_switches, switch01, match_mat = gap_myopic_opt(num_steps, k1, k2, 1.0, v1, v2, return_all_info = True)\n",
    "    #if not check_0_1(num_steps, k1, k2, 1.0, v1, v2):\n",
    "    #    not_01 += 1\n",
    "\n",
    "    ratios[0, i] = cur_ans\n",
    "    num_mistakes[0, int(match_mat[0,1] + match_mat[1,0])] += 1\n",
    "    if cur_ans == 1:\n",
    "        exacts[0] += 1\n",
    "    if num_switches > 1:\n",
    "        num_2_switches[0] += 1\n",
    "    total_switches[0] += num_switches\n",
    "    total_01_switches[0] += switch01\n",
    "    confusion_mat += match_mat\n",
    "    if (P_GAMMA - P_ALPHA + P_ALPHA_PRIME)*(S_GAMMA - S_ALPHA + S_ALPHA_PRIME) < 0:\n",
    "        good_sims += 1\n",
    "        ratios[1, i] = cur_ans\n",
    "        num_mistakes[1, int(match_mat[0,1] + match_mat[1,0])] += 1\n",
    "        total_switches[1] += num_switches\n",
    "        total_01_switches[1] += switch01\n",
    "        if cur_ans == 1:\n",
    "            exacts[1] += 1\n",
    "        if num_switches > 1:\n",
    "            num_2_switches[1] += 1\n",
    "        confusion_mat_good += match_mat\n",
    "\n",
    "print(time.time()-st)"
   ]
  },
  {
   "cell_type": "code",
   "execution_count": 50,
   "metadata": {},
   "outputs": [
    {
     "data": {
      "text/plain": [
       "(39, [89, 36], 0.892, 0.998)"
      ]
     },
     "execution_count": 50,
     "metadata": {},
     "output_type": "execute_result"
    }
   ],
   "source": [
    "good_sims, exacts, np.round(np.min(ratios[0]),3), np.round(np.mean(ratios[0]),3)"
   ]
  },
  {
   "cell_type": "code",
   "execution_count": 51,
   "metadata": {},
   "outputs": [],
   "source": [
    "incorrects = []\n",
    "for i in range(num_trials):\n",
    "    if ratios[0,i] < 1:\n",
    "        incorrects.append(ratios[0,i])"
   ]
  },
  {
   "cell_type": "code",
   "execution_count": 52,
   "metadata": {},
   "outputs": [
    {
     "data": {
      "image/png": "[encoded data removed]",
      "text/plain": [
       "<Figure size 864x288 with 2 Axes>"
      ]
     },
     "metadata": {
      "needs_background": "light"
     },
     "output_type": "display_data"
    }
   ],
   "source": [
    "fig, (ax1, ax2) = plt.subplots(1, 2, figsize=(12, 4))\n",
    "\n",
    "# Set the number of bins\n",
    "nb = 20\n",
    "bins = np.arange(nb+1)/nb*.2 + .8\n",
    "\n",
    "# Plot the histograms in subfigure 1\n",
    "ax1.hist(incorrects, bins = bins, alpha=0.5, label='Data 1')\n",
    "ax1.set_xlabel('Performance Ratio of a \\n Repeated Optimal Myopic Policy \\n (Heterogeneous Volunteers)', fontsize = 16)\n",
    "ax1.set_ylabel('Count', fontsize = 16)\n",
    "ax1.set_xlim([0.79, 1.01])\n",
    "ax1.set_xticks([0.8,0.85,0.9,0.95,1.0])\n",
    "\n",
    "# Plot the histograms in subfigure 2\n",
    "ax2.hist(incorrects_dons, bins = bins, color = 'r', alpha=0.5, label='Data 2')\n",
    "ax2.set_xlabel('Performance Ratio of a \\n Repeated Optimal Myopic Policy \\n (Heterogeneous Donors)', fontsize = 16)\n",
    "ax2.set_ylabel('\\n Count', fontsize = 16)\n",
    "ax2.set_xlim([0.79, 1.01])\n",
    "ax2.set_xticks([0.8,0.85,0.9,0.95,1.0])\n",
    "\n",
    "# Adjust the spacing between subplots\n",
    "plt.tight_layout()\n",
    "\n",
    "\n",
    "\n",
    "# Show the plot\n",
    "plt.show()"
   ]
  },
  {
   "cell_type": "code",
   "execution_count": null,
   "metadata": {},
   "outputs": [],
   "source": []
  }
 ],
 "metadata": {
  "kernelspec": {
   "display_name": "Python 3",
   "language": "python",
   "name": "python3"
  },
  "language_info": {
   "codemirror_mode": {
    "name": "ipython",
    "version": 3
   },
   "file_extension": ".py",
   "mimetype": "text/x-python",
   "name": "python",
   "nbconvert_exporter": "python",
   "pygments_lexer": "ipython3",
   "version": "3.7.6"
  }
 },
 "nbformat": 4,
 "nbformat_minor": 5
}
